{
 "cells": [
  {
   "cell_type": "code",
   "execution_count": 15,
   "metadata": {},
   "outputs": [],
   "source": [
    "# Copyright (c) 2024 Quan-feng WU <wuquanfeng@ihep.ac.cn>\n",
    "# \n",
    "# This software is released under the MIT License.\n",
    "# https://opensource.org/licenses/MIT\n",
    "\n",
    "using DelimitedFiles\n",
    "using FeynmanDenominators\n",
    "using PakAlgorithm\n",
    "using SymEngine"
   ]
  },
  {
   "cell_type": "code",
   "execution_count": 16,
   "metadata": {},
   "outputs": [
    {
     "data": {
      "text/plain": [
       "generate_AMFlow_wolfram_script (generic function with 1 method)"
      ]
     },
     "metadata": {},
     "output_type": "display_data"
    }
   ],
   "source": [
    "# Copyright (c) 2024 Quan-feng WU <wuquanfeng@ihep.ac.cn>\n",
    "# \n",
    "# This software is released under the MIT License.\n",
    "# https://opensource.org/licenses/MIT\n",
    "\n",
    "include(\"generate_AMFlow_wolfram_script.jl\")"
   ]
  },
  {
   "cell_type": "code",
   "execution_count": 17,
   "metadata": {},
   "outputs": [],
   "source": [
    "# Copyright (c) 2024 Quan-feng WU <wuquanfeng@ihep.ac.cn>\n",
    "# \n",
    "# This software is released under the MIT License.\n",
    "# https://opensource.org/licenses/MIT\n",
    "\n",
    "loop_momenta = [\"k1\", \"k2\"]\n",
    "external_momenta = [\"pa\", \"pb\"]\n",
    "\n",
    "den_list = map(den_mom -> FeynmanDenominator(den_mom, \"m\", 0; loop_momenta=loop_momenta, external_momenta=external_momenta), readlines(\"denMom.dat\"))\n",
    "exponent_mat = readdlm(\"exponentMat.dat\", '\\t', Int, '\\n'; header=false)\n",
    "coefficient_list = map(Basic, readlines(\"coeffcientList.dat\"))\n",
    "\n",
    "den_collect_list = FeynmanDenominatorCollection[]\n",
    "\n",
    "for exponent_list ∈ eachrow(exponent_mat)\n",
    "    # any(iszero, exponent_list[1:3]) && continue\n",
    "    den_indices = findall(!iszero, exponent_list)\n",
    "    # println(den_indices)\n",
    "    # (println ∘ string ∘ FeynmanDenominatorCollection)(loop_momenta, external_momenta, den_list[den_indices])\n",
    "    push!(den_collect_list,\n",
    "        FeynmanDenominatorCollection(loop_momenta, external_momenta, den_list[den_indices])\n",
    "    )\n",
    "end\n"
   ]
  },
  {
   "cell_type": "code",
   "execution_count": 18,
   "metadata": {},
   "outputs": [],
   "source": [
    "# Copyright (c) 2024 Quan-feng WU <wuquanfeng@ihep.ac.cn>\n",
    "# \n",
    "# This software is released under the MIT License.\n",
    "# https://opensource.org/licenses/MIT\n",
    "\n",
    "max_num_den, _ = findmax(length, den_collect_list)\n",
    "@assert max_num_den == 7\n",
    "max_den_collect_list = den_collect_list[findall(==(max_num_den) ∘ length, den_collect_list)]\n",
    "\n",
    "containing_indices_list = [Int[] for _ ∈ eachindex(max_den_collect_list)]\n",
    "\n",
    "for (ii, den_collect) ∈ enumerate(den_collect_list)\n",
    "    ii_flag = false\n",
    "    for (jj, max_den_collect) ∈ enumerate(max_den_collect_list)\n",
    "        if den_collect ⊆ max_den_collect\n",
    "            # @show exponent_mat[ii, :]\n",
    "            push!(containing_indices_list[jj], ii)\n",
    "            ii_flag = true\n",
    "            break\n",
    "        end\n",
    "    end\n",
    "\n",
    "    ii_flag &&\n",
    "        @assert any(iszero, exponent_mat[ii, :]) \"\"\"\n",
    "        Denominator collection $ii is not contained in the maximal one:\n",
    "        $(string(den_collect))\n",
    "        \"\"\"\n",
    "end\n",
    "\n",
    "# containing_indices_list"
   ]
  },
  {
   "cell_type": "code",
   "execution_count": 19,
   "metadata": {},
   "outputs": [
    {
     "data": {
      "text/plain": [
       "\"wolfram_scripts/s100_m0/run.sh\""
      ]
     },
     "metadata": {},
     "output_type": "display_data"
    }
   ],
   "source": [
    "# Copyright (c) 2024 Quan-feng WU <wuquanfeng@ihep.ac.cn>\n",
    "# \n",
    "# This software is released under the MIT License.\n",
    "# https://opensource.org/licenses/MIT\n",
    "\n",
    "s = 100\n",
    "m = 0\n",
    "source_directory = joinpath(\"wolfram_scripts\", \"s$(s)_m$(m)\")\n",
    "if !isdir(source_directory)\n",
    "    rm(source_directory; force=true, recursive=true)\n",
    "    mkdir(source_directory)\n",
    "end\n",
    "\n",
    "open(joinpath(source_directory, \"run.sh\"), \"w+\") do io\n",
    "    write(io, \"echo \\\"Start Time: \\$(date +%H:%M:%S)\\\"\\n\")\n",
    "\n",
    "    count = 0\n",
    "\n",
    "    for (ii, max_den_collect) ∈ enumerate(max_den_collect_list)\n",
    "        containing_indices = containing_indices_list[ii]\n",
    "        sub_expontent_mat = exponent_mat[containing_indices, :]\n",
    "        # (println ∘ string)(sub_expontent_mat)\n",
    "\n",
    "        non_zero_col_list = findall(!iszero, eachcol(sub_expontent_mat))\n",
    "        # @show length(non_zero_col_list)\n",
    "        # @show non_zero_col_list\n",
    "        @assert length(non_zero_col_list) == 7\n",
    "        sub_expontent_mat = sub_expontent_mat[:, non_zero_col_list]\n",
    "        # sub_expontent_mat = hcat(ones(Int, length(containing_indices), 3), sub_expontent_mat)\n",
    "\n",
    "        indices_list = [collect(row) for row ∈ eachrow(sub_expontent_mat)]\n",
    "        generate_AMFlow_wolfram_script(\n",
    "            joinpath(source_directory, \"phase$ii\"), \"phase$ii\",\n",
    "            max_den_collect, indices_list, 4,\n",
    "            s, m\n",
    "        )\n",
    "        write(io, \"WolframKernel -script phase$ii.wls > phase$ii.log &\\n\")\n",
    "        count += 1\n",
    "        if count == 8\n",
    "            write(io, \"wait\\n\")\n",
    "            count = 0\n",
    "        end\n",
    "    end\n",
    "\n",
    "    count == 0 || write(io, \"wait\\n\")\n",
    "    write(io, \"echo \\\"End Time: \\$(date +%H:%M:%S)\\\"\\n\")\n",
    "end\n",
    "\n",
    "write(\n",
    "    joinpath(source_directory, \".gitignore\"),\n",
    "    \"\"\"\n",
    "    cache/\n",
    "\n",
    "    *.log\n",
    "    \"\"\"\n",
    ")\n",
    "\n",
    "chmod(joinpath(source_directory, \"run.sh\"), 0o755)"
   ]
  },
  {
   "cell_type": "code",
   "execution_count": 20,
   "metadata": {},
   "outputs": [
    {
     "ename": "AssertionError",
     "evalue": "AssertionError: isfile(result_file)",
     "output_type": "error",
     "traceback": [
      "AssertionError: isfile(result_file)\n",
      "\n",
      "Stacktrace:\n",
      " [1] top-level scope\n",
      "   @ ~/workspace/FAD-sym/jl_notebook_cell_df34fa98e69747e1a8f8a730347b8e2f_W5sdnNjb2RlLXJlbW90ZQ==.jl:15"
     ]
    }
   ],
   "source": [
    "# Copyright (c) 2024 Quan-feng WU <wuquanfeng@ihep.ac.cn>\n",
    "# \n",
    "# This software is released under the MIT License.\n",
    "# https://opensource.org/licenses/MIT\n",
    "\n",
    "s = 100\n",
    "m = 0\n",
    "result_directory = joinpath(\"wolfram_scripts\", \"s$(s)_m$(m)\")\n",
    "@assert isdir(result_directory)\n",
    "\n",
    "result_list = zeros(Basic, length(coefficient_list))\n",
    "\n",
    "for (ii, max_den_collect) ∈ enumerate(max_den_collect_list)\n",
    "    result_file = joinpath(result_directory, \"phase$ii.txt\")\n",
    "    @assert isfile(result_file)\n",
    "\n",
    "    containing_indices = containing_indices_list[ii]\n",
    "    sub_expontent_mat = exponent_mat[containing_indices, :]\n",
    "    # (println ∘ string)(sub_expontent_mat)\n",
    "\n",
    "    non_zero_col_list = findall(!iszero, eachcol(sub_expontent_mat))\n",
    "    # @show length(non_zero_col_list)\n",
    "    # @show non_zero_col_list\n",
    "    @assert length(non_zero_col_list) == 7\n",
    "    sub_expontent_mat = sub_expontent_mat[:, non_zero_col_list]\n",
    "    # sub_expontent_mat = hcat(ones(Int, length(containing_indices), 3), sub_expontent_mat)\n",
    "\n",
    "    indices_list = [collect(row) for row ∈ eachrow(sub_expontent_mat)]\n",
    "    result_dict = Dict{Vector{Int}, Basic}()\n",
    "\n",
    "    for line ∈ eachline(result_file)\n",
    "        line_list = split(line, \"->\")\n",
    "        @assert length(line_list) == 2\n",
    "        ν_string, result_string = line_list\n",
    "\n",
    "        ν_list = map(r -> parse(Int, ν_string[r][2:end]), findall(r\", -?\\d\", ν_string))\n",
    "        @assert length(ν_list) == 7\n",
    "\n",
    "        # @show result_string\n",
    "        result = (Basic ∘ replace)(result_string, \"`20.\" => \"\", \"*^\" => \"e\")\n",
    "        # @show result\n",
    "        result_dict[ν_list] = result\n",
    "    end\n",
    "\n",
    "    for (jj, index) ∈ zip(containing_indices, indices_list)\n",
    "        @assert haskey(result_dict, index)\n",
    "        result_list[jj] = result_dict[index]\n",
    "    end\n",
    "end\n",
    "\n",
    "subs(transpose(coefficient_list) * result_list, Basic(\"s\") => s, Basic(\"m\") => m)\n"
   ]
  },
  {
   "cell_type": "code",
   "execution_count": 21,
   "metadata": {},
   "outputs": [],
   "source": [
    "# Copyright (c) 2024 Quan-feng WU <wuquanfeng@ihep.ac.cn>\n",
    "# \n",
    "# This software is released under the MIT License.\n",
    "# https://opensource.org/licenses/MIT\n",
    "\n"
   ]
  }
 ],
 "metadata": {
  "kernelspec": {
   "display_name": "Julia 1.10.6",
   "language": "julia",
   "name": "julia-1.10"
  },
  "language_info": {
   "file_extension": ".jl",
   "mimetype": "application/julia",
   "name": "julia",
   "version": "1.10.6"
  }
 },
 "nbformat": 4,
 "nbformat_minor": 2
}
