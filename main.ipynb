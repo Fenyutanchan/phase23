{
 "cells": [
  {
   "cell_type": "code",
   "execution_count": 1,
   "metadata": {},
   "outputs": [],
   "source": [
    "# Copyright (c) 2024 Quan-feng WU <wuquanfeng@ihep.ac.cn>\n",
    "# \n",
    "# This software is released under the MIT License.\n",
    "# https://opensource.org/licenses/MIT\n",
    "\n",
    "using DelimitedFiles\n",
    "using FeynmanDenominators\n",
    "using SymEngine\n",
    "\n",
    "include(\"scripts/get_data.jl\")\n",
    "include(\"scripts/generate_AMFlow_wolfram_script.jl\")\n",
    "include(\"scripts/generate_script_main.jl\")\n",
    "include(\"scripts/combine_result_main.jl\")\n",
    "\n",
    "max_den_collect_list, den_collect_list, containing_indices_list, coefficient_list, exponent_mat =\n",
    "    get_data(\"data/denMom.dat\", \"data/exponentMat.dat\", \"data/coefficientList.dat\");"
   ]
  },
  {
   "cell_type": "code",
   "execution_count": 2,
   "metadata": {},
   "outputs": [
    {
     "data": {
      "text/plain": [
       "7-element Vector{Tuple{Basic, Basic}}:\n",
       " (100, 3)\n",
       " (100, 1)\n",
       " (100, 3/10)\n",
       " (100, 1/10)\n",
       " (100, 3/100)\n",
       " (100, 1/100)\n",
       " (100, 0)"
      ]
     },
     "metadata": {},
     "output_type": "display_data"
    }
   ],
   "source": [
    "# Copyright (c) 2024 Quan-feng WU <wuquanfeng@ihep.ac.cn>\n",
    "# \n",
    "# This software is released under the MIT License.\n",
    "# https://opensource.org/licenses/MIT\n",
    "\n",
    "s_m_pairs = Tuple{Basic, Basic}[\n",
    "    (100, 3),\n",
    "    (100, 1),\n",
    "    (100, 3//10),\n",
    "    (100, 1//10),\n",
    "    (100, 3//100),\n",
    "    (100, 1//100),\n",
    "    (100, 0)\n",
    "]"
   ]
  },
  {
   "cell_type": "code",
   "execution_count": 3,
   "metadata": {},
   "outputs": [],
   "source": [
    "# Copyright (c) 2024 Quan-feng WU <wuquanfeng@ihep.ac.cn>\n",
    "# \n",
    "# This software is released under the MIT License.\n",
    "# https://opensource.org/licenses/MIT\n",
    "\n",
    "for (s, m) ∈ s_m_pairs\n",
    "    generate_script_main(s, m, max_den_collect_list, containing_indices_list, exponent_mat)\n",
    "end"
   ]
  },
  {
   "cell_type": "code",
   "execution_count": 4,
   "metadata": {},
   "outputs": [
    {
     "name": "stdout",
     "output_type": "stream",
     "text": [
      "The result for s = 100, m = 3, and g = 1 is: 2.1141697640470838553951918158535286051375487199542e-8\n",
      "The result for s = 100, m = 1, and g = 1 is: 0.00003926277073362062022962671187014487\n",
      "The result for s = 100, m = 3/10, and g = 1 is: 0.00952213612017125880827852681659876667\n",
      "The result for s = 100, m = 1/10, and g = 1 is: 1.1054323704779879546529470524588119718\n",
      "The result for s = 100, m = 3/100, and g = 1 is: 181.4517003655646635436752743724304545169\n",
      "The result for s = 100, m = 1/100, and g = 1 is: 18019.6610045103051335844397738331516961587\n",
      "The result for s = 100, m = 0, and g = 1 is: 5.1043147939036036038760661358699416279920737758381e-8 + 7.5589533827811302775989185988821717494536577146902e-9*eps^(-3) - 3.2020153921559343119434561721275633530592312333127e-8*eps^(-2) - 1.2669320264557720262932624658916073595902248078856e-8*eps^(-1)\n"
     ]
    },
    {
     "name": "stderr",
     "output_type": "stream",
     "text": [
      "┌ Warning: Missing result for phase2.\n",
      "└ @ Main /home/fytc/workspace/FAD-sym/scripts/combine_result_main.jl:23\n",
      "┌ Warning: Missing result for phase4.\n",
      "└ @ Main /home/fytc/workspace/FAD-sym/scripts/combine_result_main.jl:23\n"
     ]
    }
   ],
   "source": [
    "# Copyright (c) 2024 Quan-feng WU <wuquanfeng@ihep.ac.cn>\n",
    "# \n",
    "# This software is released under the MIT License.\n",
    "# https://opensource.org/licenses/MIT\n",
    "\n",
    "for (s, m) ∈ s_m_pairs\n",
    "    g = 1\n",
    "    result = combine_result_main(s, m, max_den_collect_list, containing_indices_list, coefficient_list, exponent_mat; g=g)\n",
    "    println(\"The result for s = $s, m = $m, and g = $g is: $result\")\n",
    "end\n"
   ]
  },
  {
   "cell_type": "code",
   "execution_count": 5,
   "metadata": {},
   "outputs": [],
   "source": [
    "# Copyright (c) 2024 Quan-feng WU <wuquanfeng@ihep.ac.cn>\n",
    "# \n",
    "# This software is released under the MIT License.\n",
    "# https://opensource.org/licenses/MIT\n",
    "\n"
   ]
  }
 ],
 "metadata": {
  "kernelspec": {
   "display_name": "Julia 1.10.6",
   "language": "julia",
   "name": "julia-1.10"
  },
  "language_info": {
   "file_extension": ".jl",
   "mimetype": "application/julia",
   "name": "julia",
   "version": "1.10.6"
  }
 },
 "nbformat": 4,
 "nbformat_minor": 2
}
