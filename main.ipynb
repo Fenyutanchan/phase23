{
 "cells": [
  {
   "cell_type": "code",
   "execution_count": 1,
   "metadata": {},
   "outputs": [],
   "source": [
    "# Copyright (c) 2024 Quan-feng WU <wuquanfeng@ihep.ac.cn>\n",
    "# \n",
    "# This software is released under the MIT License.\n",
    "# https://opensource.org/licenses/MIT\n",
    "\n",
    "using DelimitedFiles\n",
    "using FeynmanDenominators\n",
    "using PakAlgorithm\n",
    "using SymEngine"
   ]
  },
  {
   "cell_type": "code",
   "execution_count": 2,
   "metadata": {},
   "outputs": [
    {
     "data": {
      "text/plain": [
       "generate_AMFlow_wolfram_script (generic function with 1 method)"
      ]
     },
     "metadata": {},
     "output_type": "display_data"
    }
   ],
   "source": [
    "# Copyright (c) 2024 Quan-feng WU <wuquanfeng@ihep.ac.cn>\n",
    "# \n",
    "# This software is released under the MIT License.\n",
    "# https://opensource.org/licenses/MIT\n",
    "\n",
    "include(\"generate_AMFlow_wolfram_script.jl\")"
   ]
  },
  {
   "cell_type": "code",
   "execution_count": 3,
   "metadata": {},
   "outputs": [],
   "source": [
    "# Copyright (c) 2024 Quan-feng WU <wuquanfeng@ihep.ac.cn>\n",
    "# \n",
    "# This software is released under the MIT License.\n",
    "# https://opensource.org/licenses/MIT\n",
    "\n",
    "loop_momenta = [\"k1\", \"k2\"]\n",
    "external_momenta = [\"pa\", \"pb\"]\n",
    "\n",
    "den_list = map(den_mom -> FeynmanDenominator(den_mom, \"m\", 0; loop_momenta=loop_momenta, external_momenta=external_momenta), readlines(\"denMom.dat\"))\n",
    "exponent_mat = readdlm(\"exponentMat.dat\", '\\t', Int, '\\n'; header=false)\n",
    "\n",
    "den_collect_list = FeynmanDenominatorCollection[]\n",
    "\n",
    "for exponent_list ∈ eachrow(exponent_mat)\n",
    "    # any(iszero, exponent_list[1:3]) && continue\n",
    "    den_indices = findall(!iszero, exponent_list)\n",
    "    # println(den_indices)\n",
    "    # (println ∘ string ∘ FeynmanDenominatorCollection)(loop_momenta, external_momenta, den_list[den_indices])\n",
    "    push!(den_collect_list,\n",
    "        FeynmanDenominatorCollection(loop_momenta, external_momenta, den_list[den_indices])\n",
    "    )\n",
    "end\n"
   ]
  },
  {
   "cell_type": "code",
   "execution_count": 4,
   "metadata": {},
   "outputs": [],
   "source": [
    "# Copyright (c) 2024 Quan-feng WU <wuquanfeng@ihep.ac.cn>\n",
    "# \n",
    "# This software is released under the MIT License.\n",
    "# https://opensource.org/licenses/MIT\n",
    "\n",
    "max_num_den, _ = findmax(length, den_collect_list)\n",
    "@assert max_num_den == 7\n",
    "max_den_collect_list = den_collect_list[findall(==(max_num_den) ∘ length, den_collect_list)]\n",
    "\n",
    "containing_indices_list = [Int[] for _ ∈ eachindex(max_den_collect_list)]\n",
    "\n",
    "for (ii, den_collect) ∈ enumerate(den_collect_list)\n",
    "    ii_flag = false\n",
    "    for (jj, max_den_collect) ∈ enumerate(max_den_collect_list)\n",
    "        if den_collect ⊆ max_den_collect\n",
    "            # @show exponent_mat[ii, :]\n",
    "            push!(containing_indices_list[jj], ii)\n",
    "            ii_flag = true\n",
    "            break\n",
    "        end\n",
    "    end\n",
    "\n",
    "    ii_flag &&\n",
    "        @assert any(iszero, exponent_mat[ii, :]) \"\"\"\n",
    "        Denominator collection $ii is not contained in the maximal one:\n",
    "        $(string(den_collect))\n",
    "        \"\"\"\n",
    "end\n",
    "\n",
    "# containing_indices_list"
   ]
  },
  {
   "cell_type": "code",
   "execution_count": 5,
   "metadata": {},
   "outputs": [
    {
     "data": {
      "text/plain": [
       "\"wolfram_scripts/run.sh\""
      ]
     },
     "metadata": {},
     "output_type": "display_data"
    }
   ],
   "source": [
    "# Copyright (c) 2024 Quan-feng WU <wuquanfeng@ihep.ac.cn>\n",
    "# \n",
    "# This software is released under the MIT License.\n",
    "# https://opensource.org/licenses/MIT\n",
    "\n",
    "open(\"wolfram_scripts/run.sh\", \"w+\") do io\n",
    "    write(io, \"echo \\\"Start Time: \\$(date +%H:%M:%S)\\\"\\n\")\n",
    "\n",
    "    count = 0\n",
    "\n",
    "    for (ii, max_den_collect) ∈ enumerate(max_den_collect_list)\n",
    "        containing_indices = containing_indices_list[ii]\n",
    "        sub_expontent_mat = exponent_mat[containing_indices, :]\n",
    "        # (println ∘ string)(sub_expontent_mat)\n",
    "\n",
    "        non_zero_col_list = findall(!iszero, eachcol(sub_expontent_mat))\n",
    "        # @show length(non_zero_col_list)\n",
    "        # @show non_zero_col_list\n",
    "        @assert length(non_zero_col_list) == 7\n",
    "        sub_expontent_mat = sub_expontent_mat[:, non_zero_col_list]\n",
    "        # sub_expontent_mat = hcat(ones(Int, length(containing_indices), 3), sub_expontent_mat)\n",
    "\n",
    "        indices_list = [collect(row) for row ∈ eachrow(sub_expontent_mat)]\n",
    "        generate_AMFlow_wolfram_script(\n",
    "            \"wolfram_scripts/phase$ii\", \"phase$ii\",\n",
    "            max_den_collect, indices_list,\n",
    "            100, 1\n",
    "        )\n",
    "        write(io, \"wolframscript -f phase$ii.wls > phase$ii.log &\\n\")\n",
    "        count += 1\n",
    "        if count == 10\n",
    "            write(io, \"wait\\n\")\n",
    "            count = 1\n",
    "        end\n",
    "    end\n",
    "\n",
    "    write(io, \"wait\\n\")\n",
    "    write(io, \"echo \\\"End Time: \\$(date +%H:%M:%S)\\\"\\n\")\n",
    "end\n",
    "\n",
    "chmod(\"wolfram_scripts/run.sh\", 0o755)"
   ]
  },
  {
   "cell_type": "code",
   "execution_count": 6,
   "metadata": {},
   "outputs": [],
   "source": [
    "# Copyright (c) 2024 Quan-feng WU <wuquanfeng@ihep.ac.cn>\n",
    "# \n",
    "# This software is released under the MIT License.\n",
    "# https://opensource.org/licenses/MIT\n",
    "\n"
   ]
  }
 ],
 "metadata": {
  "kernelspec": {
   "display_name": "Julia 1.10.6",
   "language": "julia",
   "name": "julia-1.10"
  },
  "language_info": {
   "file_extension": ".jl",
   "mimetype": "application/julia",
   "name": "julia",
   "version": "1.10.6"
  }
 },
 "nbformat": 4,
 "nbformat_minor": 2
}
